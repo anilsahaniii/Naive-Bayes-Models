{
 "cells": [
  {
   "cell_type": "code",
   "execution_count": 1,
   "id": "3ac4f319",
   "metadata": {},
   "outputs": [],
   "source": [
    "# Importing necessary libraries\n",
    "import numpy as np\n",
    "import pandas as pd"
   ]
  },
  {
   "cell_type": "code",
   "execution_count": 2,
   "id": "ddc91b77",
   "metadata": {},
   "outputs": [
    {
     "data": {
      "text/html": [
       "<div>\n",
       "<style scoped>\n",
       "    .dataframe tbody tr th:only-of-type {\n",
       "        vertical-align: middle;\n",
       "    }\n",
       "\n",
       "    .dataframe tbody tr th {\n",
       "        vertical-align: top;\n",
       "    }\n",
       "\n",
       "    .dataframe thead th {\n",
       "        text-align: right;\n",
       "    }\n",
       "</style>\n",
       "<table border=\"1\" class=\"dataframe\">\n",
       "  <thead>\n",
       "    <tr style=\"text-align: right;\">\n",
       "      <th></th>\n",
       "      <th>review</th>\n",
       "      <th>sentiment</th>\n",
       "    </tr>\n",
       "  </thead>\n",
       "  <tbody>\n",
       "    <tr>\n",
       "      <th>0</th>\n",
       "      <td>One of the other reviewers has mentioned that ...</td>\n",
       "      <td>positive</td>\n",
       "    </tr>\n",
       "    <tr>\n",
       "      <th>1</th>\n",
       "      <td>A wonderful little production. &lt;br /&gt;&lt;br /&gt;The...</td>\n",
       "      <td>positive</td>\n",
       "    </tr>\n",
       "    <tr>\n",
       "      <th>2</th>\n",
       "      <td>I thought this was a wonderful way to spend ti...</td>\n",
       "      <td>positive</td>\n",
       "    </tr>\n",
       "    <tr>\n",
       "      <th>3</th>\n",
       "      <td>Basically there's a family where a little boy ...</td>\n",
       "      <td>negative</td>\n",
       "    </tr>\n",
       "    <tr>\n",
       "      <th>4</th>\n",
       "      <td>Petter Mattei's \"Love in the Time of Money\" is...</td>\n",
       "      <td>positive</td>\n",
       "    </tr>\n",
       "  </tbody>\n",
       "</table>\n",
       "</div>"
      ],
      "text/plain": [
       "                                              review sentiment\n",
       "0  One of the other reviewers has mentioned that ...  positive\n",
       "1  A wonderful little production. <br /><br />The...  positive\n",
       "2  I thought this was a wonderful way to spend ti...  positive\n",
       "3  Basically there's a family where a little boy ...  negative\n",
       "4  Petter Mattei's \"Love in the Time of Money\" is...  positive"
      ]
     },
     "execution_count": 2,
     "metadata": {},
     "output_type": "execute_result"
    }
   ],
   "source": [
    "# Loading the dataset\n",
    "df = pd.read_csv(\"IMDB Dataset.csv\")\n",
    "df.head() # Displaying first five rows"
   ]
  },
  {
   "cell_type": "code",
   "execution_count": 3,
   "id": "c02e3f95",
   "metadata": {},
   "outputs": [
    {
     "data": {
      "text/plain": [
       "(50000, 2)"
      ]
     },
     "execution_count": 3,
     "metadata": {},
     "output_type": "execute_result"
    }
   ],
   "source": [
    "df.shape # Number of rows and columns"
   ]
  },
  {
   "cell_type": "code",
   "execution_count": 4,
   "id": "4217fc53",
   "metadata": {},
   "outputs": [
    {
     "name": "stdout",
     "output_type": "stream",
     "text": [
      "<class 'pandas.core.frame.DataFrame'>\n",
      "RangeIndex: 50000 entries, 0 to 49999\n",
      "Data columns (total 2 columns):\n",
      " #   Column     Non-Null Count  Dtype \n",
      "---  ------     --------------  ----- \n",
      " 0   review     50000 non-null  object\n",
      " 1   sentiment  50000 non-null  object\n",
      "dtypes: object(2)\n",
      "memory usage: 781.4+ KB\n"
     ]
    }
   ],
   "source": [
    "# Summary of dataset\n",
    "df.info()"
   ]
  },
  {
   "cell_type": "markdown",
   "id": "c9348039",
   "metadata": {},
   "source": [
    "### Observation :\n",
    "* Dataset contains 50000 rows and 2 columns.\n",
    "* Dataset contains only categorical features.\n",
    "* Dataset doesn't contain any null values."
   ]
  },
  {
   "cell_type": "code",
   "execution_count": 5,
   "id": "3f3d1fcc",
   "metadata": {},
   "outputs": [],
   "source": [
    "# Checking for total number duplicate rows\n",
    "df.duplicated().sum()\n",
    "# Discarding the duplicate rows\n",
    "df.drop_duplicates(inplace=True)"
   ]
  },
  {
   "cell_type": "markdown",
   "id": "664e5765",
   "metadata": {},
   "source": [
    "# Exploring *Sentiment* Feature"
   ]
  },
  {
   "cell_type": "code",
   "execution_count": 6,
   "id": "4e86616d",
   "metadata": {},
   "outputs": [
    {
     "data": {
      "image/png": "[encoded data removed]",
      "text/plain": [
       "<Figure size 640x480 with 1 Axes>"
      ]
     },
     "metadata": {},
     "output_type": "display_data"
    }
   ],
   "source": [
    "df['sentiment'].value_counts().plot(kind='bar');"
   ]
  },
  {
   "cell_type": "markdown",
   "id": "3df97cd1",
   "metadata": {},
   "source": [
    "### Both postive and negative sentiments have approx same counts."
   ]
  },
  {
   "cell_type": "markdown",
   "id": "8dac2ee4",
   "metadata": {},
   "source": [
    "# Exploring *Review* feature"
   ]
  },
  {
   "cell_type": "code",
   "execution_count": 7,
   "id": "d4550510",
   "metadata": {},
   "outputs": [
    {
     "data": {
      "text/plain": [
       "\"One of the other reviewers has mentioned that after watching just 1 Oz episode you'll be hooked. They are right, as this is exactly what happened with me.<br /><br />The first thing that struck me about Oz was its brutality and unflinching scenes of violence, which set in right from the word GO. Trust me, this is not a show for the faint hearted or timid. This show pulls no punches with regards to drugs, sex or violence. Its is hardcore, in the classic use of the word.<br /><br />It is called OZ as that is the nickname given to the Oswald Maximum Security State Penitentary. It focuses mainly on Emerald City, an experimental section of the prison where all the cells have glass fronts and face inwards, so privacy is not high on the agenda. Em City is home to many..Aryans, Muslims, gangstas, Latinos, Christians, Italians, Irish and more....so scuffles, death stares, dodgy dealings and shady agreements are never far away.<br /><br />I would say the main appeal of the show is due to the fact that it goes where other shows wouldn't dare. Forget pretty pictures painted for mainstream audiences, forget charm, forget romance...OZ doesn't mess around. The first episode I ever saw struck me as so nasty it was surreal, I couldn't say I was ready for it, but as I watched more, I developed a taste for Oz, and got accustomed to the high levels of graphic violence. Not just violence, but injustice (crooked guards who'll be sold out for a nickel, inmates who'll kill on order and get away with it, well mannered, middle class inmates being turned into prison bitches due to their lack of street skills or prison experience) Watching Oz, you may become comfortable with what is uncomfortable viewing....thats if you can get in touch with your darker side.\""
      ]
     },
     "execution_count": 7,
     "metadata": {},
     "output_type": "execute_result"
    }
   ],
   "source": [
    "df['review'][0]"
   ]
  },
  {
   "cell_type": "code",
   "execution_count": 8,
   "id": "a795ffe0",
   "metadata": {},
   "outputs": [],
   "source": [
    "# Taking sample of 20000 rows only because i m getting memory error while taking all rows\n",
    "df = df.sample(20000)"
   ]
  },
  {
   "cell_type": "markdown",
   "id": "80022e31",
   "metadata": {},
   "source": [
    "# Text Preprocessing"
   ]
  },
  {
   "cell_type": "markdown",
   "id": "77c214be",
   "metadata": {},
   "source": [
    "### Lowercasing every alphabets in each rows"
   ]
  },
  {
   "cell_type": "code",
   "execution_count": 9,
   "id": "4e8d7382",
   "metadata": {},
   "outputs": [],
   "source": [
    "df['review']=df['review'].str.lower()"
   ]
  },
  {
   "cell_type": "markdown",
   "id": "9598704e",
   "metadata": {},
   "source": [
    "### Removing HTML tags"
   ]
  },
  {
   "cell_type": "code",
   "execution_count": 10,
   "id": "24e3d0ec",
   "metadata": {},
   "outputs": [],
   "source": [
    "# Creating a function to remove html tags\n",
    "import re\n",
    "def remove_html_tags(text):\n",
    "    pattern = re.compile('<.*?>')\n",
    "    return pattern.sub(r'',text)"
   ]
  },
  {
   "cell_type": "code",
   "execution_count": 11,
   "id": "d45c9f22",
   "metadata": {},
   "outputs": [],
   "source": [
    "# Applying the function to remove html tags\n",
    "df['review']=df['review'].apply(remove_html_tags)"
   ]
  },
  {
   "cell_type": "markdown",
   "id": "cd41564e",
   "metadata": {},
   "source": [
    "### Removing URLs"
   ]
  },
  {
   "cell_type": "code",
   "execution_count": 12,
   "id": "8be0fe33",
   "metadata": {},
   "outputs": [],
   "source": [
    "# Creating a function to remove URLs\n",
    "def remove_urls(text):\n",
    "    return re.sub(r'https?://\\S+', '', text)\n",
    "# Applying the function to remove URLs\n",
    "df['review']=df['review']=df['review'].apply(remove_urls)"
   ]
  },
  {
   "cell_type": "markdown",
   "id": "19cabb42",
   "metadata": {},
   "source": [
    "### Removing Punctuation"
   ]
  },
  {
   "cell_type": "code",
   "execution_count": 13,
   "id": "0671ce76",
   "metadata": {},
   "outputs": [],
   "source": [
    "import string\n",
    "punctuation = set(string.punctuation)\n",
    "df['review']=df['review'].apply(lambda x: x.translate(str.maketrans(\"\", \"\", string.punctuation)))"
   ]
  },
  {
   "cell_type": "markdown",
   "id": "be0c61f6",
   "metadata": {},
   "source": [
    "### Removing stopwords"
   ]
  },
  {
   "cell_type": "code",
   "execution_count": 14,
   "id": "e0cfa048",
   "metadata": {},
   "outputs": [],
   "source": [
    "from nltk.corpus import stopwords\n",
    "stopwords = stopwords.words('english')\n",
    "# Creating a function to remove stopwords\n",
    "def remove_stopwords(text):\n",
    "    s = []\n",
    "    for words in text.split():\n",
    "        if words not in stopwords:\n",
    "            s.append(words)\n",
    "    a = s[:]\n",
    "    s.clear()\n",
    "    return ' '.join(a)\n",
    "# Applying that function in review feature to remove stopwords\n",
    "df['review']=df['review'].apply(remove_stopwords)"
   ]
  },
  {
   "cell_type": "markdown",
   "id": "6e2a886c",
   "metadata": {},
   "source": [
    "### Stemming"
   ]
  },
  {
   "cell_type": "code",
   "execution_count": 15,
   "id": "2ab150dd",
   "metadata": {},
   "outputs": [],
   "source": [
    "from nltk.stem.porter import PorterStemmer\n",
    "ps = PorterStemmer()\n",
    "# Creating a function to perform stemming\n",
    "def stemming(text):\n",
    "    s = []\n",
    "    for words in text.split():\n",
    "        s.append(ps.stem(words))\n",
    "    a = s[:]\n",
    "    s.clear()\n",
    "    return ' '.join(a)\n",
    "# Applying that function in review feature to perform stemming\n",
    "df['review']=df['review'].apply(stemming)"
   ]
  },
  {
   "cell_type": "markdown",
   "id": "ae4908fe",
   "metadata": {},
   "source": [
    "# Feature Engineering"
   ]
  },
  {
   "cell_type": "code",
   "execution_count": 16,
   "id": "a1afce9f",
   "metadata": {},
   "outputs": [],
   "source": [
    "from sklearn.preprocessing import LabelEncoder\n",
    "encoder = LabelEncoder()\n",
    "df['sentiment']=encoder.fit_transform(df['sentiment'])"
   ]
  },
  {
   "cell_type": "code",
   "execution_count": 17,
   "id": "e9f97a1e",
   "metadata": {},
   "outputs": [],
   "source": [
    "from sklearn.feature_extraction.text import CountVectorizer\n",
    "cv = CountVectorizer(max_features=10000,binary=True)\n",
    "X = cv.fit_transform(df['review']).toarray() # Independent Variable\n",
    "y = df.iloc[:,-1].values # Dependent Variable"
   ]
  },
  {
   "cell_type": "code",
   "execution_count": 18,
   "id": "af5f64e8",
   "metadata": {},
   "outputs": [],
   "source": [
    "# Splitng data into test and traning data\n",
    "from sklearn.model_selection import train_test_split\n",
    "X_train,X_test,y_train,y_test = train_test_split(X,y,test_size=0.2)"
   ]
  },
  {
   "cell_type": "markdown",
   "id": "4db68b3f",
   "metadata": {},
   "source": [
    "# Training data on Different Naive Bayes Models"
   ]
  },
  {
   "cell_type": "code",
   "execution_count": 19,
   "id": "f72b642e",
   "metadata": {},
   "outputs": [],
   "source": [
    "from sklearn.naive_bayes import BernoulliNB,MultinomialNB,GaussianNB\n",
    "from sklearn.metrics import accuracy_score\n",
    "model1 = MultinomialNB()\n",
    "model2 = BernoulliNB()\n",
    "model3 = GaussianNB()\n",
    "\n",
    "model1.fit(X_train,y_train)\n",
    "model2.fit(X_train,y_train)\n",
    "model3.fit(X_train,y_train)\n",
    "\n",
    "y_pred1 = model1.predict(X_test)\n",
    "y_pred2 = model2.predict(X_test)\n",
    "y_pred3 = model3.predict(X_test)"
   ]
  },
  {
   "cell_type": "code",
   "execution_count": 20,
   "id": "9e951a38",
   "metadata": {},
   "outputs": [
    {
     "name": "stdout",
     "output_type": "stream",
     "text": [
      "Model 1 Accuary:  0.8495\n",
      "Model 2 Accuary:  0.851\n",
      "Model 3 Accuary:  0.7355\n"
     ]
    }
   ],
   "source": [
    "# Checking Accuarcy of each model\n",
    "print(\"Model 1 Accuary: \",accuracy_score(y_test,y_pred1))\n",
    "print(\"Model 2 Accuary: \",accuracy_score(y_test,y_pred2))\n",
    "print(\"Model 3 Accuary: \",accuracy_score(y_test,y_pred3))"
   ]
  },
  {
   "cell_type": "markdown",
   "id": "0479c7a4",
   "metadata": {},
   "source": [
    "* # Hence Our Binomial,Multinomial Naive Bayes Model works better than Gaussian Naive Bayes"
   ]
  }
 ],
 "metadata": {
  "kernelspec": {
   "display_name": "Python 3 (ipykernel)",
   "language": "python",
   "name": "python3"
  },
  "language_info": {
   "codemirror_mode": {
    "name": "ipython",
    "version": 3
   },
   "file_extension": ".py",
   "mimetype": "text/x-python",
   "name": "python",
   "nbconvert_exporter": "python",
   "pygments_lexer": "ipython3",
   "version": "3.9.13"
  }
 },
 "nbformat": 4,
 "nbformat_minor": 5
}
